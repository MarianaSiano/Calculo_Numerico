{
  "cells": [
    {
      "cell_type": "markdown",
      "metadata": {
        "id": "z04gKxyDTBrM"
      },
      "source": [
        "## Cálculo Numérico - Turma X - Atividade Prática 1\n",
        "# Aluno(a) 1: Mariana Siano\n",
        "# Aluno(a) 2: Quezia"
      ]
    },
    {
      "cell_type": "markdown",
      "metadata": {
        "id": "vNL86e0WWKBh"
      },
      "source": [
        "# Exercício 1\n",
        "\n",
        "(a) Escreva um programa para computar um valor aproximado para a derivada de uma função usando a fórmula de diferenças finitas dada por:\n",
        "\n",
        "$$\n",
        "f^{\\prime}(x) \\approx \\frac{f(x+h)-f(x)}{h}\n",
        "$$\n",
        "\n",
        "\n",
        "Teste o seu programa usando a função $\\sin (x)$ para $x=1$. Determine o erro da aproximação comparando com o valor exato da derivada dado pela função nativa da linguagem Python $\\cos (x)$.\n",
        "\n",
        "(b) Faça um gráfico da magnitude do erro em função de $h$, para $h=\\frac{1}{2}, \\frac{1}{4}, \\frac{1}{8} \\ldots$. Utilize uma escala logarítmica para $h$ e para a magnitude do erro (valor absoluto).\n",
        "\n",
        "(c) Existe um valor mínimo para a magnitude do erro? Qual o valor de $h$ nesse caso?\n",
        "\n",
        "(d) Repita o exercício usando a aproximação por diferença central\n",
        "\n",
        "$$\n",
        "f^{\\prime}(x) \\approx \\frac{f(x+h)-f(x-h)}{2 h}\n",
        "$$"
      ]
    },
    {
      "cell_type": "code",
      "execution_count": null,
      "metadata": {
        "id": "Vl-FbRmMWKyU"
      },
      "outputs": [],
      "source": [
        "import numpy as np\n",
        "import matplotlib.pyplot as plt\n",
        "\n",
        "# a) Definição da função e sua derivada analítica\n",
        "\n",
        "def f(x):\n",
        "    return np.sin(x)\n",
        "\n",
        "def df_analitica(x):\n",
        "    return np.cos(x)\n",
        "\n",
        "# Defivada por difereça finita progressiva\n",
        "def df_progressiva(f, x, h):\n",
        "    return (f(x + h) - f(x)) / h\n",
        "\n",
        "# d) Derivada por diferença central\n",
        "def df_central(f, x, h):\n",
        "    return (f(x + h) - f(x - h)) / (2 * h)\n",
        "\n",
        "x0 = 1\n",
        "h_values = 2 ** -np.arange(1, 15)  # h = 1/2, 1/4, ..., 1/16384\n",
        "\n",
        "erro_progressiva = []\n",
        "erro_central = []\n",
        "\n",
        "# Calcula erros para cada h nas duas aproximações (Letras (a) e (d))\n",
        "for h in h_values:\n",
        "    derivada_prog = df_progressiva(f, x0, h)\n",
        "    derivada_cent = df_central(f, x0, h)\n",
        "    erro_p = abs(derivada_prog - df_analitica(x0))\n",
        "    erro_c = abs(derivada_cent - df_analitica(x0))\n",
        "    erro_progressiva.append(erro_p)\n",
        "    erro_central.append(erro_c)"
      ]
    },
    {
      "cell_type": "markdown",
      "metadata": {
        "id": "2olfp363WNOl"
      },
      "source": [
        "# Exercício 2\n",
        "\n",
        "Crie uma função que implemente o método de Newton para encotrar a raiz de uma equação passada por parâmetro.\n",
        "Em seguida, use a função criada para encontrar a raiz da equação $ f(x) = e^x+2^{-x}+2 \\cos x-6=0$, para $1 \\leq x \\leq 2$, com critério de parada $|f(x_k)| < $10^{-5}$.\n",
        "\n"
      ]
    },
    {
      "cell_type": "code",
      "execution_count": null,
      "metadata": {
        "id": "WabS6PRxWNzw"
      },
      "outputs": [],
      "source": []
    },
    {
      "cell_type": "markdown",
      "metadata": {
        "id": "XKP_iitrZWt9"
      },
      "source": [
        "---\n",
        "# Exercício 3\n",
        "## (a) Introdução ao Método de Euler Explícito para resolução de problemas de Valor Inicial (PVI)\n",
        "\n",
        "O **Método de Euler Explícito** é um método numérico simples para resolver equações diferenciais ordinárias (EDOs) de primeira ordem. Dado um problema de valor inicial (PVI):\n",
        "\n",
        "$$\\frac{du}{dt} = f(t, u), \\quad u(0) = u_0,$$\n",
        "\n",
        "onde $u(t)$ é a função desconhecida, $f(t, u)$ é uma função dada e $u_0$ é o valor inicial da função, o método de Euler explítico consiste em aproximar a solução $u(t)$ através de uma discretização do tempo.\n",
        "\n",
        "A ideia central do método é usar a fórmula de aproximação linear de primeira ordem:\n",
        "\n",
        "$$u_{n+1} = u_n + \\Delta t \\cdot f(t_n, u_n),$$\n",
        "\n",
        "onde:\n",
        "- $u_n$ é a aproximação da solução no tempo $t_n$,\n",
        "- $\\Delta t$ é o passo de tempo,\n",
        "- $f(t_n, u_n)$ é o valor da função $f$ no ponto $(t_n, u_n)$.\n",
        "\n",
        "O método de Euler é chamado de explícito porque a expressão para $u_{n+1}$ é dada diretamente em função de $u_n$ (ou seja, $u_{n+1}$ é \"calculado explicitamente\" a partir de $u_n$).\n",
        "\n",
        "\n",
        "Um ponto de atenção importante na **implementação** do método Euler explícito consiste na escolha do **passo de tempo**, pois alguns valores podem deixar o método **sujeito a instabilidades**.\n"
      ]
    },
    {
      "cell_type": "markdown",
      "metadata": {
        "id": "4vS4F6COCoSw"
      },
      "source": [
        "---\n",
        "## (b) Método de Euler Implícito para resolução de problemas de Valor Inicial (PVI)\n",
        "\n",
        "No método de Euler Implícito, a aproximação da solução em cada passo de tempo é obtida pela equação:\n",
        "\n",
        "\\begin{equation}\n",
        "    u_{n+1} = u_n + \\Delta t \\cdot f(t_{n+1}, u_{n+1}),\n",
        "\\end{equation}\n",
        "\n",
        "onde a avaliação da função $f$ ocorre no ponto futuro $(t_{n+1}, u_{n+1})$. Esse método é classificado como *implícito* porque a incógnita $u_{n+1}$ aparece em ambos os lados da equação, exigindo a resolução de uma equação não-linear em cada passo.\n",
        "\n",
        "A equação pode ser reescrita na forma:\n",
        "\n",
        "\\begin{equation}\n",
        "    g(u_{n+1}) = -u_{n+1} + u_n + \\Delta t \\cdot f(t_{n+1}, u_{n+1}) = 0.\n",
        "\\end{equation}\n",
        "\n",
        "Para resolver $g(u_{n+1}) = 0$, utilizamos o **Método de Newton**, iterando:\n",
        "\n",
        "\\begin{equation}\n",
        "    u_{n+1}^{(k+1)} = u_{n+1}^{(k)} - \\frac{g(u_{n+1}^{(k)})}{g'(u_{n+1}^{(k)})},\n",
        "\\end{equation}\n",
        "\n",
        "onde a derivada $g'(u_{n+1})$ é dada por:\n",
        "\n",
        "\\begin{equation}\n",
        "    g'(u_{n+1}) = -1 + \\Delta t \\cdot \\frac{\\partial f}{\\partial u}.\n",
        "\\end{equation}\n",
        "\n",
        "Este procedimento é repetido até que a solução convirja para um valor aceitável, com base em um critério de tolerância. Quando o critério de parada do método de Newton for satisfeito, $u_{n+1}^{(k+1)}$ será aceito como o valor de $u_{n+1}$, permitindo avançar para o próximo passo de tempo.\n"
      ]
    },
    {
      "cell_type": "markdown",
      "metadata": {
        "id": "-RUSXZWMdv9-"
      },
      "source": [
        "### Agora é sua vez!\n",
        "\n",
        "Neste caso, use os métodos de Euler explícito e implícito para resolver o PVI do crescimento logístico:\n",
        "\n",
        "$$y' = ry(1-y),$$\n",
        "condição inicial: $y(0) = 0.5$ e $r=2$.\n",
        "\n",
        "\\\n",
        "Note que o PVI é não linear, portanto, será necessário usar o método de Newton a cada passo de tempo do método de Euler Implícito.\n",
        "\n",
        "a) Compare os resultados numéricos dos métodos de Euler Explícito e Implícito com solução analítica, se houver.\n",
        "\n",
        "b) Teste diferentes valores de $\\Delta t$ para avaliar a instabilidade do método.\n",
        "\n",
        "c) Relate as diferenças observadas entre os métodos explícito e implícito."
      ]
    },
    {
      "cell_type": "code",
      "execution_count": null,
      "metadata": {
        "id": "-d4VoKwXdwHd"
      },
      "outputs": [],
      "source": []
    }
  ],
  "metadata": {
    "colab": {
      "provenance": []
    },
    "kernelspec": {
      "display_name": "Python 3",
      "name": "python3"
    },
    "language_info": {
      "codemirror_mode": {
        "name": "ipython",
        "version": 3
      },
      "file_extension": ".py",
      "mimetype": "text/x-python",
      "name": "python",
      "nbconvert_exporter": "python",
      "pygments_lexer": "ipython3",
      "version": "3.13.5"
    }
  },
  "nbformat": 4,
  "nbformat_minor": 0
}
